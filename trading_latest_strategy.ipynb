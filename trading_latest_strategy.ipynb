{
 "cells": [
  {
   "cell_type": "code",
   "execution_count": 1,
   "metadata": {},
   "outputs": [
    {
     "name": "stderr",
     "output_type": "stream",
     "text": [
      "/home/thomas/anaconda3/lib/python3.7/site-packages/pandas_datareader/compat/__init__.py:7: FutureWarning: pandas.util.testing is deprecated. Use the functions in the public API at pandas.testing instead.\n",
      "  from pandas.util.testing import assert_frame_equal\n"
     ]
    }
   ],
   "source": [
    "import pandas_datareader as pdr\n",
    "import datetime\n",
    "import numpy as np \n",
    "import pandas as pd\n",
    "from alpha_vantage.timeseries import TimeSeries\n",
    "import matplotlib.pyplot as plt\n",
    "import time\n",
    "from bs4 import BeautifulSoup\n",
    "import requests\n",
    "import re\n",
    "from datetime import datetime\n",
    "import pytz\n",
    "from yahooquery import Ticker\n",
    "from matplotlib import pyplot\n",
    "import matplotlib.cm as cm"
   ]
  },
  {
   "cell_type": "code",
   "execution_count": 2,
   "metadata": {},
   "outputs": [],
   "source": [
    "from ibapi import wrapper\n",
    "from ibapi.client import EClient\n",
    "from ibapi.utils import iswrapper #just for decorator\n",
    "from ibapi.common import *\n",
    "\n",
    "from ib.ext.Contract import Contract\n",
    "from ib.ext.Order import Order\n",
    "from ib.ext import EWrapper\n",
    "from ib.opt import Connection, message\n",
    "import ib"
   ]
  },
  {
   "cell_type": "code",
   "execution_count": 3,
   "metadata": {},
   "outputs": [],
   "source": [
    "import logging\n",
    "logger = logging.getLogger()\n",
    "logger.setLevel(logging.CRITICAL)"
   ]
  },
  {
   "cell_type": "markdown",
   "metadata": {},
   "source": [
    "# aux functions"
   ]
  },
  {
   "cell_type": "code",
   "execution_count": 31,
   "metadata": {},
   "outputs": [],
   "source": [
    "def buy_order(data, current_max, wanted_drop, purchase_price):\n",
    "            \n",
    "    buy_mask = 0\n",
    "    current_price = data[-1]\n",
    "                \n",
    "    if current_price <= (1-wanted_drop/100)*current_max and current_price <= purchase_price:\n",
    "        buy_mask = 1\n",
    "    else:\n",
    "        buy_mask = 0\n",
    "                    \n",
    "    return buy_mask, current_price"
   ]
  },
  {
   "cell_type": "code",
   "execution_count": 32,
   "metadata": {},
   "outputs": [],
   "source": [
    "def sell_order(data, purchase_price, wanted_increase):\n",
    "    \n",
    "    current_price = data[-1]\n",
    "    sell_mask = 0\n",
    "    \n",
    "    if current_price >= (1+(wanted_increase/2)/100)*purchase_price:\n",
    "        sell_mask = 1\n",
    "                \n",
    "    return sell_mask"
   ]
  },
  {
   "cell_type": "markdown",
   "metadata": {},
   "source": [
    "# fetch company names and price"
   ]
  },
  {
   "cell_type": "code",
   "execution_count": 6,
   "metadata": {},
   "outputs": [],
   "source": [
    "# new strategy of looking mostly at the market opening\n",
    "\n",
    "def vantage_fetch_latest_value(company_symbols_list):\n",
    "\n",
    "    list_data = []\n",
    "    for company in company_symbols_list:\n",
    "        try:\n",
    "            time.sleep(15)\n",
    "            print(company)\n",
    "            ts = TimeSeries(key='XQJSCNK7QEMWH6RZ', output_format='pandas')\n",
    "            data, meta_data = ts.get_intraday(symbol=company, interval='1min', outputsize='full')\n",
    "            data = np.flip(data[\"4. close\"])\n",
    "            \n",
    "            list_of_days = np.unique(data.index.strftime(\"%D\"))\n",
    "            for day in list_of_days:\n",
    "                subset_data = data[data.index.strftime(\"%D\") == day].values\n",
    "                list_data.append(subset_data)\n",
    "            \n",
    "        except ValueError:\n",
    "            print(\"company symbol \" + company + \" not a valid API call\")\n",
    "\n",
    "    return list_data, meta_data"
   ]
  },
  {
   "cell_type": "code",
   "execution_count": 7,
   "metadata": {},
   "outputs": [],
   "source": [
    "# using yahoo query API\n",
    "\n",
    "def yahooquery_fetch_latest_value(company_symbols_list):\n",
    "    \n",
    "    for company in company_symbols_list:\n",
    "        try:\n",
    "            tickers = Ticker(company)\n",
    "            dic_data = tickers.financial_data\n",
    "            data = dic_data[company][\"currentPrice\"]\n",
    "\n",
    "        except ValueError:\n",
    "            print(\"company symbol \" + company + \" not a valid API call\")\n",
    "\n",
    "    return data"
   ]
  },
  {
   "cell_type": "code",
   "execution_count": 24,
   "metadata": {},
   "outputs": [
    {
     "name": "stderr",
     "output_type": "stream",
     "text": [
      "15-Jun-20 15:02:34 DEBUG     Starting new HTTPS connection (1): www.alphavantage.co:443\n"
     ]
    },
    {
     "name": "stdout",
     "output_type": "stream",
     "text": [
      "NCLH\n"
     ]
    },
    {
     "name": "stderr",
     "output_type": "stream",
     "text": [
      "15-Jun-20 15:02:35 DEBUG     https://www.alphavantage.co:443 \"GET /query?function=TIME_SERIES_INTRADAY&symbol=NCLH&interval=1min&outputsize=full&apikey=XQJSCNK7QEMWH6RZ&datatype=json HTTP/1.1\" 200 None\n",
      "15-Jun-20 15:02:56 DEBUG     Starting new HTTPS connection (1): www.alphavantage.co:443\n"
     ]
    },
    {
     "name": "stdout",
     "output_type": "stream",
     "text": [
      "CCL\n"
     ]
    },
    {
     "name": "stderr",
     "output_type": "stream",
     "text": [
      "15-Jun-20 15:02:57 DEBUG     https://www.alphavantage.co:443 \"GET /query?function=TIME_SERIES_INTRADAY&symbol=CCL&interval=1min&outputsize=full&apikey=XQJSCNK7QEMWH6RZ&datatype=json HTTP/1.1\" 200 None\n"
     ]
    }
   ],
   "source": [
    "# mainstream stocks\n",
    "company_symbols_list = [\"NCLH\", \"CCL\"]\n",
    "\n",
    "meta_list_data = []\n",
    "for company in company_symbols_list:\n",
    "    list_data, _ = vantage_fetch_latest_value([company])\n",
    "    meta_list_data.append(list_data)"
   ]
  },
  {
   "cell_type": "markdown",
   "metadata": {},
   "source": [
    "# analysis of the parameters: drop_wanted and increase_wanted"
   ]
  },
  {
   "cell_type": "code",
   "execution_count": 27,
   "metadata": {},
   "outputs": [
    {
     "name": "stdout",
     "output_type": "stream",
     "text": [
      "3/5\n",
      "3/5\n"
     ]
    }
   ],
   "source": [
    "for company_data in meta_list_data:\n",
    "    count = 0\n",
    "    for data in company_data:\n",
    "        change = data[-1]-data[0]\n",
    "        if change > 0:\n",
    "            count += 1\n",
    "    print(str(count) + \"/\" + str(len(company_data)))"
   ]
  },
  {
   "cell_type": "code",
   "execution_count": 28,
   "metadata": {},
   "outputs": [
    {
     "name": "stdout",
     "output_type": "stream",
     "text": [
      "[2.32620115971922, 1.9918608403648226] [20.48, 19.798]\n"
     ]
    }
   ],
   "source": [
    "# absolute drop wanted\n",
    "\n",
    "percent_wanted_list = []\n",
    "max_price_list = []\n",
    "\n",
    "for company_data in meta_list_data:\n",
    "    company_data = company_data[-1]\n",
    "    max_list = []\n",
    "    std_list = []\n",
    "    mean_list = []\n",
    "    for data in [company_data]:\n",
    "        std_list.append(np.std(data))\n",
    "        mean_list.append(np.mean(data))\n",
    "        max_list.append(np.max(data))\n",
    "\n",
    "    percent_wanted = np.mean(std_list)*100/np.mean(mean_list)\n",
    "    weekly_max = np.max(max_list)\n",
    "    \n",
    "    percent_wanted_list.append(percent_wanted)\n",
    "    max_price_list.append(weekly_max)\n",
    "\n",
    "print(percent_wanted_list, max_price_list)"
   ]
  },
  {
   "cell_type": "code",
   "execution_count": 191,
   "metadata": {},
   "outputs": [],
   "source": [
    "# # percentage increase wanted\n",
    "\n",
    "# count = 0\n",
    "# for list_data in meta_list_data:\n",
    "#     print(\"Company: \" + company_symbols_list[count])\n",
    "#     percent_wanted = percent_wanted_list[count]\n",
    "#     for data in list_data:\n",
    "    \n",
    "#         list_indices = []\n",
    "#         list_indices.append(0)\n",
    "#         occurence_index = 0\n",
    "#         current_purchase_price = data[0]\n",
    "\n",
    "#         for data_point in data:\n",
    "#             if data_point <= current_purchase_price*(1-percent_wanted/100) or data_point >= current_purchase_price*(1+percent_wanted/100):\n",
    "#                 current_purchase_price = data_point\n",
    "#                 list_indices.append(occurence_index)\n",
    "#             occurence_index += 1\n",
    "\n",
    "#         plt.plot()\n",
    "#         plt.plot(data)\n",
    "#         for index in range(len(list_indices)):\n",
    "#             plt.scatter(list_indices[index], data[list_indices[index]], marker = \"+\", s = 200)\n",
    "#         plt.show() \n",
    "#         print(len(list_indices)-1)\n",
    "        \n",
    "#     count += 1\n"
   ]
  },
  {
   "cell_type": "markdown",
   "metadata": {},
   "source": [
    "# test the strategy"
   ]
  },
  {
   "cell_type": "code",
   "execution_count": 209,
   "metadata": {},
   "outputs": [
    {
     "name": "stdout",
     "output_type": "stream",
     "text": [
      "for company: AAPL\n",
      "[320.3604, 320.25] [321.451, 321.26]\n",
      "[321.51] [322.71]\n",
      "[324.43] [325.5154]\n",
      "[324.7001] []\n",
      "[325.985] [327.25]\n",
      "for company: BABA\n",
      "[205.9] [206.71]\n",
      "[210.19] [211.06]\n",
      "[216.19, 216.13] [217.12, 217.0]\n",
      "[218.62, 218.61, 218.6] [219.58, 219.475]\n",
      "[219.35] []\n",
      "for company: BAC\n",
      "[24.52, 24.52] [24.69]\n",
      "[25.2779] []\n",
      "[25.685] [25.85]\n",
      "[26.235, 26.225] [26.42, 26.4]\n",
      "[28.035, 28.02, 28.015] [28.2223, 28.225, 28.2]\n",
      "for company: AMD\n",
      "[53.75] []\n",
      "[53.168] [53.55]\n",
      "[53.0] []\n",
      "[53.35, 53.29] [53.67]\n",
      "[52.4484] [52.74]\n",
      "for company: DAL\n",
      "[26.235, 26.1684] [26.645]\n",
      "[26.47] []\n",
      "[27.451] [27.875]\n",
      "[30.255] [30.8084]\n",
      "[35.47, 35.27, 35.2243] [36.067, 35.8124]\n"
     ]
    }
   ],
   "source": [
    "count = 0\n",
    "\n",
    "for list_data in meta_list_data:\n",
    "    company = company_symbols_list[count]\n",
    "    print(\"for company: \" + company)\n",
    "    \n",
    "    for data in list_data:\n",
    "\n",
    "        daily_purchase_price = 10000\n",
    "        current_max = max_price_list[count]\n",
    "        percent_wanted = percent_wanted_list[count]\n",
    "        \n",
    "        buy_price_list = []\n",
    "        sell_price_list = []\n",
    "\n",
    "        time_series = []\n",
    "        purchase = False\n",
    "\n",
    "        counter = 0\n",
    "        for data_point in data:\n",
    "            sell_mask = 0\n",
    "            buy_mask = 0\n",
    "\n",
    "            time_series.append(data_point)\n",
    "\n",
    "            if counter >= 30:\n",
    "                if purchase == False:\n",
    "\n",
    "                    if data_point > current_max:\n",
    "                        current_max = data_point\n",
    "\n",
    "                    buy_mask, purchase_price = buy_order(time_series, current_max, percent_wanted, daily_purchase_price)\n",
    "                    if buy_mask:\n",
    "                        purchase = True  \n",
    "                        daily_purchase_price = purchase_price\n",
    "                else:\n",
    "                    sell_mask = sell_order(time_series, purchase_price, percent_wanted)\n",
    "                    if sell_mask:\n",
    "                        purchase = False\n",
    "\n",
    "            if buy_mask:\n",
    "                buy_price_list.append(data_point)\n",
    "\n",
    "            if sell_mask:\n",
    "                sell_price_list.append(data_point)\n",
    "\n",
    "            counter += 1\n",
    "\n",
    "        print(buy_price_list, sell_price_list)\n",
    "        \n",
    "    count += 1\n"
   ]
  },
  {
   "cell_type": "markdown",
   "metadata": {},
   "source": [
    "# real live trading"
   ]
  },
  {
   "cell_type": "code",
   "execution_count": 11,
   "metadata": {},
   "outputs": [],
   "source": [
    "def get_time():\n",
    "\n",
    "    tz_NY = pytz.timezone('America/New_York') \n",
    "    datetime_NY = datetime.now(tz_NY)\n",
    "    formatted_time = datetime_NY.strftime(\"%H:%M:%S\")\n",
    "    str_date = datetime.strptime(formatted_time, \"%H:%M:%S\")\n",
    "    \n",
    "    return str_date"
   ]
  },
  {
   "cell_type": "code",
   "execution_count": 12,
   "metadata": {},
   "outputs": [],
   "source": [
    "def error_handler(msg):\n",
    "    \"\"\"Handles the capturing of error messages\"\"\"\n",
    "    print(\"Server Error: %s\" % msg)\n",
    "\n",
    "def reply_handler(msg):\n",
    "    \"\"\"Handles of server replies\"\"\"\n",
    "    print(\"Server Response: %s, %s\" % (msg.typeName, msg))"
   ]
  },
  {
   "cell_type": "code",
   "execution_count": 13,
   "metadata": {},
   "outputs": [],
   "source": [
    "# make the contract\n",
    "\n",
    "def create_contract(symbol, sec_type, exch, prim_exch, curr):\n",
    "    \n",
    "    contract = Contract()\n",
    "    contract.m_symbol = symbol\n",
    "    contract.m_secType = sec_type\n",
    "    contract.m_exchange = exch\n",
    "    contract.m_primaryExch = prim_exch\n",
    "    contract.m_currency = curr\n",
    "    \n",
    "    return contract"
   ]
  },
  {
   "cell_type": "code",
   "execution_count": 14,
   "metadata": {},
   "outputs": [],
   "source": [
    "# define 3 types of orders, to make the overall buy limit, sell limit (profit taker) and trailing stop\n",
    "\n",
    "def make_market_order(action, quantity, order_id, transmit, tif):\n",
    "    \n",
    "    order = Order()\n",
    "    order.m_orderType = 'MKT'\n",
    "    order.m_totalQuantity = quantity\n",
    "    order.m_action = action\n",
    "    order.m_orderId = order_id\n",
    "    order.m_transmit = transmit\n",
    "    order.m_tif = tif\n",
    "    \n",
    "    return order\n",
    "\n",
    "def make_limit_order(action, quantity, price, order_id, transmit, tif = None, parent_id = None):\n",
    "\n",
    "    order = Order()\n",
    "    order.m_orderType = 'LMT'\n",
    "    order.m_totalQuantity = quantity\n",
    "    order.m_action = action\n",
    "    order.m_lmtPrice = price\n",
    "    order.m_orderId = order_id\n",
    "    order.m_transmit = transmit\n",
    "    \n",
    "    if tif != None:\n",
    "        order.m_tif = tif\n",
    "    \n",
    "    if parent_id != None:\n",
    "        order.m_parentId = parent_id\n",
    "\n",
    "    return order\n",
    "\n",
    "def make_stop_order(action, quantity, order_id, transmit, trail_percentage, parent_id):\n",
    "\n",
    "    order = Order()\n",
    "    order.m_orderType = 'TRAIL'\n",
    "    order.m_totalQuantity = quantity\n",
    "    order.m_action = action\n",
    "    order.m_orderId = order_id\n",
    "    order.m_transmit = transmit\n",
    "    order.m_trailingPercent = trail_percentage\n",
    "    order.m_parentId = parent_id\n",
    "    \n",
    "    return order"
   ]
  },
  {
   "cell_type": "code",
   "execution_count": 15,
   "metadata": {},
   "outputs": [],
   "source": [
    "########################################\n",
    "\n",
    "def decision(time_series, purchase, current_max, percent_wanted, daily_purchase_price):\n",
    "\n",
    "    buy_mask = 0\n",
    "    sell_mask = 0\n",
    "    \n",
    "    if purchase == False:\n",
    "\n",
    "        buy_mask, purchase_price = buy_order(time_series, current_max, percent_wanted, daily_purchase_price)\n",
    "            \n",
    "        if buy_mask:\n",
    "            purchase = True  \n",
    "            daily_purchase_price = purchase_price\n",
    "    else:\n",
    "        sell_mask = sell_order(time_series, daily_purchase_price, percent_wanted)\n",
    "        if sell_mask:\n",
    "            purchase = False\n",
    "    \n",
    "    return buy_mask, sell_mask, purchase, daily_purchase_price\n",
    "        \n",
    "################################"
   ]
  },
  {
   "cell_type": "code",
   "execution_count": 21,
   "metadata": {},
   "outputs": [],
   "source": [
    "order_id = 1"
   ]
  },
  {
   "cell_type": "code",
   "execution_count": 33,
   "metadata": {},
   "outputs": [],
   "source": [
    "amount_to_trade = 140\n",
    "company_symbols_list = [\"NCLH\"]"
   ]
  },
  {
   "cell_type": "code",
   "execution_count": 23,
   "metadata": {},
   "outputs": [
    {
     "name": "stderr",
     "output_type": "stream",
     "text": [
      "15-Jun-20 13:35:58 DEBUG     Starting new HTTPS connection (1): query2.finance.yahoo.com:443\n"
     ]
    },
    {
     "name": "stdout",
     "output_type": "stream",
     "text": [
      "NCLH\n"
     ]
    },
    {
     "name": "stderr",
     "output_type": "stream",
     "text": [
      "15-Jun-20 13:35:58 DEBUG     https://query2.finance.yahoo.com:443 \"GET /v10/finance/quoteSummary/NCLH?modules=financialData&formatted=false&lang=en-US&region=US&corsDomain=finance.yahoo.com HTTP/1.1\" 200 450\n"
     ]
    },
    {
     "name": "stdout",
     "output_type": "stream",
     "text": [
      "Server Version: 76\n",
      "TWS Time at connection:20200615 13:35:58 EST\n",
      "Server Response: managedAccounts, <managedAccounts accountsList=U3975864>\n",
      "Server Response: nextValidId, <nextValidId orderId=1>\n",
      "Server Error: <error id=-1, errorCode=2104, errorMsg=Market data farm connection is OK:usfarm>\n",
      "Server Response: error, <error id=-1, errorCode=2104, errorMsg=Market data farm connection is OK:usfarm>\n",
      "Server Error: <error id=-1, errorCode=2106, errorMsg=HMDS data farm connection is OK:ushmds>\n",
      "Server Response: error, <error id=-1, errorCode=2106, errorMsg=HMDS data farm connection is OK:ushmds>\n",
      "Server Error: <error id=-1, errorCode=2158, errorMsg=Sec-def data farm connection is OK:secdefil>\n",
      "Server Response: error, <error id=-1, errorCode=2158, errorMsg=Sec-def data farm connection is OK:secdefil>\n",
      "Server Response: openOrder, <openOrder orderId=2, contract=<ib.ext.Contract.Contract object at 0x7f4c13494e10>, order=<ib.ext.Order.Order object at 0x7f4c15049a58>, orderState=<ib.ext.OrderState.OrderState object at 0x7f4c133ed2e8>>\n",
      "Server Response: orderStatus, <orderStatus orderId=2, status=PreSubmitted, filled=0, remaining=25, avgFillPrice=0.0, permId=1484238937, parentId=1, lastFillPrice=0.0, clientId=25237812, whyHeld=child>\n",
      "Server Response: openOrder, <openOrder orderId=2, contract=<ib.ext.Contract.Contract object at 0x7f4c13494e10>, order=<ib.ext.Order.Order object at 0x7f4c15049a58>, orderState=<ib.ext.OrderState.OrderState object at 0x7f4c133ed470>>\n",
      "Server Response: orderStatus, <orderStatus orderId=2, status=PreSubmitted, filled=0, remaining=25, avgFillPrice=0.0, permId=1484238937, parentId=1, lastFillPrice=0.0, clientId=25237812, whyHeld=child>\n",
      "Server Response: openOrder, <openOrder orderId=1, contract=<ib.ext.Contract.Contract object at 0x7f4c13494e10>, order=<ib.ext.Order.Order object at 0x7f4c15049a58>, orderState=<ib.ext.OrderState.OrderState object at 0x7f4c133ed550>>\n",
      "Server Response: orderStatus, <orderStatus orderId=1, status=Submitted, filled=0, remaining=25, avgFillPrice=0.0, permId=1484238936, parentId=0, lastFillPrice=0.0, clientId=25237812, whyHeld=None>\n",
      "Server Response: openOrder, <openOrder orderId=1, contract=<ib.ext.Contract.Contract object at 0x7f4c13494e10>, order=<ib.ext.Order.Order object at 0x7f4c15049a58>, orderState=<ib.ext.OrderState.OrderState object at 0x7f4c133ed978>>\n",
      "Server Response: orderStatus, <orderStatus orderId=1, status=Submitted, filled=0, remaining=25, avgFillPrice=0.0, permId=1484238936, parentId=0, lastFillPrice=0.0, clientId=25237812, whyHeld=None>\n",
      "Server Response: openOrder, <openOrder orderId=2, contract=<ib.ext.Contract.Contract object at 0x7f4c13494e10>, order=<ib.ext.Order.Order object at 0x7f4c15049a58>, orderState=<ib.ext.OrderState.OrderState object at 0x7f4c133ed6a0>>\n",
      "Server Response: orderStatus, <orderStatus orderId=2, status=PreSubmitted, filled=0, remaining=25, avgFillPrice=0.0, permId=1484238937, parentId=1, lastFillPrice=0.0, clientId=25237812, whyHeld=child>\n",
      "Server Response: execDetails, <execDetails reqId=-1, contract=<ib.ext.Contract.Contract object at 0x7f4c15049a58>, execution=<ib.ext.Execution.Execution object at 0x7f4c133edb00>>\n",
      "Server Response: openOrder, <openOrder orderId=1, contract=<ib.ext.Contract.Contract object at 0x7f4c13494e10>, order=<ib.ext.Order.Order object at 0x7f4c15049a58>, orderState=<ib.ext.OrderState.OrderState object at 0x7f4c133ed400>>\n",
      "Server Response: orderStatus, <orderStatus orderId=1, status=Filled, filled=25, remaining=0, avgFillPrice=19.87, permId=1484238936, parentId=0, lastFillPrice=19.87, clientId=25237812, whyHeld=None>\n",
      "Server Response: openOrder, <openOrder orderId=1, contract=<ib.ext.Contract.Contract object at 0x7f4c13494e10>, order=<ib.ext.Order.Order object at 0x7f4c15049a58>, orderState=<ib.ext.OrderState.OrderState object at 0x7f4c133edb00>>\n",
      "Server Response: orderStatus, <orderStatus orderId=1, status=Filled, filled=25, remaining=0, avgFillPrice=19.87, permId=1484238936, parentId=0, lastFillPrice=19.87, clientId=25237812, whyHeld=None>\n",
      "Server Response: commissionReport, <commissionReport commissionReport=<ib.ext.CommissionReport.CommissionReport object at 0x7f4c15049a58>>\n",
      "Server Response: openOrder, <openOrder orderId=2, contract=<ib.ext.Contract.Contract object at 0x7f4c13494e10>, order=<ib.ext.Order.Order object at 0x7f4c15049a58>, orderState=<ib.ext.OrderState.OrderState object at 0x7f4c133ed668>>\n",
      "Server Response: orderStatus, <orderStatus orderId=2, status=PreSubmitted, filled=0, remaining=25, avgFillPrice=0.0, permId=1484238937, parentId=1, lastFillPrice=0.0, clientId=25237812, whyHeld=None>\n",
      "Server Response: openOrder, <openOrder orderId=2, contract=<ib.ext.Contract.Contract object at 0x7f4c13494e10>, order=<ib.ext.Order.Order object at 0x7f4c15049a58>, orderState=<ib.ext.OrderState.OrderState object at 0x7f4c133edcf8>>\n",
      "Server Response: orderStatus, <orderStatus orderId=2, status=Submitted, filled=0, remaining=25, avgFillPrice=0.0, permId=1484238937, parentId=1, lastFillPrice=0.0, clientId=25237812, whyHeld=None>\n",
      "compute time was: 2.753779888153076\n"
     ]
    },
    {
     "ename": "KeyboardInterrupt",
     "evalue": "",
     "output_type": "error",
     "traceback": [
      "\u001b[0;31m---------------------------------------------------------------------------\u001b[0m",
      "\u001b[0;31mKeyboardInterrupt\u001b[0m                         Traceback (most recent call last)",
      "\u001b[0;32m<ipython-input-23-45a5a03ecbb7>\u001b[0m in \u001b[0;36m<module>\u001b[0;34m\u001b[0m\n\u001b[1;32m     83\u001b[0m             \u001b[0;32mpass\u001b[0m\u001b[0;34m\u001b[0m\u001b[0;34m\u001b[0m\u001b[0m\n\u001b[1;32m     84\u001b[0m         \u001b[0;32melse\u001b[0m\u001b[0;34m:\u001b[0m\u001b[0;34m\u001b[0m\u001b[0;34m\u001b[0m\u001b[0m\n\u001b[0;32m---> 85\u001b[0;31m             \u001b[0mtime\u001b[0m\u001b[0;34m.\u001b[0m\u001b[0msleep\u001b[0m\u001b[0;34m(\u001b[0m\u001b[0;36m59.9\u001b[0m\u001b[0;34m-\u001b[0m\u001b[0mtick_time\u001b[0m\u001b[0;34m)\u001b[0m\u001b[0;34m\u001b[0m\u001b[0;34m\u001b[0m\u001b[0m\n\u001b[0m",
      "\u001b[0;31mKeyboardInterrupt\u001b[0m: "
     ]
    }
   ],
   "source": [
    "if __name__ == \"__main__\":\n",
    "    \n",
    "    time_series_list = [[] for _ in range(len(company_symbols_list))]\n",
    "    buy_mask_list = [[] for _ in range(len(company_symbols_list))]\n",
    "    sell_mask_list = [[] for _ in range(len(company_symbols_list))]\n",
    "    purchase_bool_list = [False]*len(company_symbols_list)\n",
    "    lag_counter_list = [0]*len(company_symbols_list)\n",
    "    \n",
    "    daily_purchase_price = [10000]*len(company_symbols_list)\n",
    "    max_price_list = max_price_list\n",
    "    percent_wanted_list = percent_wanted_list\n",
    "\n",
    "    current_time = get_time()\n",
    "\n",
    "    while current_time > datetime(1900, 1, 1, 10, 0, 0) and current_time < datetime(1900, 1, 1, 16, 0, 0):\n",
    "\n",
    "        t1 = time.time()\n",
    "\n",
    "        # make the buy or sell decision at current time t\n",
    "        company_counter = 0\n",
    "        for company in company_symbols_list:\n",
    "            print(company)\n",
    "            latest_price = yahooquery_fetch_latest_value([company])\n",
    "            time_series_list[company_counter].append(latest_price)\n",
    "            \n",
    "            if latest_price > max_price_list[company_counter]:\n",
    "                max_price_list[company_counter] = latest_price\n",
    "                    \n",
    "            # morning and lunch strategies\n",
    "            buy_mask, sell_mask, purchase, purchase_price = decision(time_series_list[company_counter], \n",
    "                                     purchase_bool_list[company_counter], max_price_list[company_counter], \n",
    "                                     percent_wanted_list[company_counter], daily_purchase_price[company_counter])  \n",
    "            \n",
    "            buy_mask_list[company_counter] = buy_mask\n",
    "            sell_mask_list[company_counter] = sell_mask\n",
    "            purchase_bool_list[company_counter] = purchase\n",
    "            daily_purchase_price[company_counter] = purchase_price\n",
    "\n",
    "            company_counter += 1\n",
    "    \n",
    "        purchase_list_indices = []\n",
    "        for index in range(len(company_symbols_list)):\n",
    "            if buy_mask_list[index] == 1:\n",
    "                purchase_list_indices.append(index)\n",
    "\n",
    "        if purchase_list_indices != []:\n",
    "            \n",
    "            for index in purchase_list_indices:\n",
    "                company = company_symbols_list[index]\n",
    "                percent_wanted = percent_wanted_list[index]\n",
    "                    \n",
    "                latest_price = time_series_list[index][-1]\n",
    "                \n",
    "                tws_conn = Connection.create(<ip>, port=7496, clientId=25237812)\n",
    "                tws_conn.connect()\n",
    "                tws_conn.register(error_handler, 'Error')\n",
    "                tws_conn.registerAll(reply_handler)\n",
    "\n",
    "                quantity = int(amount_to_trade/latest_price)\n",
    "                order_id = order_id\n",
    "\n",
    "                my_contract = create_contract(company, 'STK', 'SMART', 'SMART', 'USD')\n",
    "\n",
    "                # limit buy order\n",
    "                my_order_buy = make_limit_order(\"BUY\", quantity, np.round(latest_price+0.02, 2), order_id, False, \"DAY\")\n",
    "                tws_conn.placeOrder(order_id, my_contract, my_order_buy)\n",
    "                \n",
    "                # associated limit sell order\n",
    "                my_order_sell = make_limit_order(\"SELL\", quantity, np.round(latest_price*(1+percent_wanted/200)-0.02, 2), order_id+1, True, None, order_id)\n",
    "                tws_conn.placeOrder(order_id+1, my_contract, my_order_sell)\n",
    "\n",
    "                time.sleep(2)\n",
    "                order_id += 2\n",
    "\n",
    "                tws_conn.disconnect()\n",
    "        \n",
    "        current_time = get_time()  \n",
    "        t2 = time.time()\n",
    "        tick_time = t2 - t1\n",
    "        print(\"compute time was: \" + str(tick_time))\n",
    "\n",
    "        if tick_time > 59.9:\n",
    "            pass\n",
    "        else:\n",
    "            time.sleep(59.9-tick_time)"
   ]
  },
  {
   "cell_type": "code",
   "execution_count": 36,
   "metadata": {},
   "outputs": [
    {
     "data": {
      "text/plain": [
       "5"
      ]
     },
     "execution_count": 36,
     "metadata": {},
     "output_type": "execute_result"
    }
   ],
   "source": [
    "int(amount_to_trade/25)"
   ]
  },
  {
   "cell_type": "code",
   "execution_count": null,
   "metadata": {},
   "outputs": [],
   "source": []
  },
  {
   "cell_type": "code",
   "execution_count": null,
   "metadata": {},
   "outputs": [],
   "source": []
  },
  {
   "cell_type": "code",
   "execution_count": null,
   "metadata": {},
   "outputs": [],
   "source": []
  }
 ],
 "metadata": {
  "kernelspec": {
   "display_name": "Python 3",
   "language": "python",
   "name": "python3"
  },
  "language_info": {
   "codemirror_mode": {
    "name": "ipython",
    "version": 3
   },
   "file_extension": ".py",
   "mimetype": "text/x-python",
   "name": "python",
   "nbconvert_exporter": "python",
   "pygments_lexer": "ipython3",
   "version": "3.7.3"
  }
 },
 "nbformat": 4,
 "nbformat_minor": 2
}
