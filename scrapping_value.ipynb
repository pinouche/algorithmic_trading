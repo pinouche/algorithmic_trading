{
 "cells": [
  {
   "cell_type": "code",
   "execution_count": 1,
   "metadata": {},
   "outputs": [],
   "source": [
    "import datetime\n",
    "import numpy as np \n",
    "import pandas as pd\n",
    "import matplotlib.pyplot as plt\n",
    "import time\n",
    "from bs4 import BeautifulSoup\n",
    "import requests\n",
    "import re\n",
    "from datetime import datetime\n",
    "import string\n",
    "import pytz\n",
    "from matplotlib import pyplot\n",
    "import matplotlib.cm as cm"
   ]
  },
  {
   "cell_type": "code",
   "execution_count": 2,
   "metadata": {},
   "outputs": [],
   "source": [
    "import logging\n",
    "logger = logging.getLogger()\n",
    "logger.setLevel(logging.CRITICAL)"
   ]
  },
  {
   "cell_type": "markdown",
   "metadata": {},
   "source": [
    "# fetch company names and price"
   ]
  },
  {
   "cell_type": "code",
   "execution_count": 19,
   "metadata": {},
   "outputs": [],
   "source": [
    "def get_nyse_stocks():\n",
    "    \n",
    "    headers = {'User-Agent': 'Mozilla/5.0 (Macintosh; Intel Mac OS X 10.13; rv:63.0) Gecko/20100101 Firefox/63.0'}\n",
    "\n",
    "    list_stock = []\n",
    "    for letter in string.ascii_uppercase:\n",
    "        print(\"Fetching for letter: \" + letter)\n",
    "        \n",
    "        r = requests.get(\"https://eoddata.com/stocklist/NYSE/\" + letter + \".htm\", headers=headers)\n",
    "        html_doc = r.text\n",
    "        soup = BeautifulSoup(html_doc, 'html.parser')\n",
    "        soup_tag = soup.find_all(\"a\", href=True)\n",
    "\n",
    "        for link in soup_tag:\n",
    "            text = link.get('href')\n",
    "            if \"/stockquote/NYSE/\" in text:\n",
    "                text = text.split(\"/\")[-1].split(\".\")[0]\n",
    "\n",
    "                if text not in list_stock:\n",
    "                    list_stock.append(text)\n",
    "                    \n",
    "    return list_stock"
   ]
  },
  {
   "cell_type": "code",
   "execution_count": 213,
   "metadata": {},
   "outputs": [],
   "source": [
    "def get_interesting_stocks_wsj(list_stock):\n",
    "    \n",
    "    interesting_stocks = []\n",
    "    \n",
    "    for symbol in list_stock:\n",
    "        \n",
    "        print(symbol)\n",
    "\n",
    "        headers = {'User-Agent': 'Mozilla/5.0 (Macintosh; Intel Mac OS X 10.13; rv:63.0) Gecko/20100101 Firefox/63.0'}\n",
    "        r = requests.get(\"https://www.wsj.com/market-data/quotes/\" + symbol + \"/research-ratings\", headers=headers)\n",
    "        html_doc = r.text\n",
    "        soup = BeautifulSoup(html_doc, 'html.parser')\n",
    "        soup_tag = soup.find_all(\"span\", attrs={\"class\": \"data_data\"})\n",
    "\n",
    "        def get_prices(soup_tag):\n",
    "            \n",
    "            current_price_tag = re.findall(r'\\d+', str(soup_tag[-1]))\n",
    "            low_price_tag = re.findall(r'\\d+', str(soup_tag[-3]))\n",
    "            \n",
    "            def convert_tag_to_price(tag_price):\n",
    "                \n",
    "                # price of the action is in thousands (seperated by comma)\n",
    "                if len(tag_price) == 3:\n",
    "                    price = int(tag_price[0])*1000+int(tag_price[1])+float(tag_price[2])/100\n",
    "                else:\n",
    "                    price = int(tag_price[0])+float(tag_price[1])/100\n",
    "\n",
    "                return price\n",
    "            \n",
    "            current_price = convert_tag_to_price(current_price_tag)\n",
    "            low_price = convert_tag_to_price(low_price_tag)\n",
    "            \n",
    "            return current_price, low_price\n",
    "        \n",
    "        def get_number_of_analysts(soup_tag):\n",
    "            \n",
    "            analyst_list = [int(re.findall(r'\\d+', str(tag))[0]) for tag in soup_tag if len(re.findall(r'\\d+', str(tag))) == 1]\n",
    "            num_categories = int(len(analyst_list)/3)\n",
    "            num_analysts = np.sum(np.array(analyst_list)[[(index-1)+2*index for index in range(1, num_categories+1)]])\n",
    "            \n",
    "            return num_analysts\n",
    "        \n",
    "        try:\n",
    "            current_price, low_price = get_prices(soup_tag)\n",
    "            number_of_analysts = get_number_of_analysts(soup_tag)\n",
    "            \n",
    "            print(current_price, number_of_analysts)\n",
    "            \n",
    "            if current_price < low_price and number_of_analysts >= 4:\n",
    "                interesting_stocks.append((symbol, ((low_price-current_price)/current_price)*100))\n",
    "                \n",
    "        except IndexError:\n",
    "            print(\"No data found for symbol: \" + symbol)\n",
    "            \n",
    "    return interesting_stocks"
   ]
  },
  {
   "cell_type": "code",
   "execution_count": 269,
   "metadata": {},
   "outputs": [],
   "source": [
    "def get_interesting_stocks_zacks(interesting_stocks):\n",
    "    \n",
    "    updated_interesting_stocks = []\n",
    "    \n",
    "    for entry in interesting_stocks:\n",
    "        symbol, potential_upside = entry[0], entry[1]\n",
    "    \n",
    "        headers = {'User-Agent': 'Mozilla/5.0 (Macintosh; Intel Mac OS X 10.13; rv:63.0) Gecko/20100101 Firefox/63.0'}\n",
    "        r = requests.get(\"https://www.zacks.com/stock/quote/\" + symbol + \"?q=aapl\", headers=headers)\n",
    "        html_doc = r.text\n",
    "        soup = BeautifulSoup(html_doc, 'html.parser')\n",
    "        soup_tag = soup.find_all(\"span\", attrs={\"class\": \"composite_val\"})\n",
    "\n",
    "        try:\n",
    "            if len(soup_tag) == 16:\n",
    "                score_list = [char for tag in soup_tag[4:7] for char in str(tag) if char.isupper()]\n",
    "                \n",
    "                if score_list:\n",
    "                    score_list.sort()\n",
    "\n",
    "                    if score_list[-1] <= 'B':\n",
    "                        print(entry, score_list)\n",
    "                        updated_interesting_stocks.append((symbol, potential_upside, score_list))\n",
    "                \n",
    "        except IndexError:\n",
    "            print(\"No data found for symbol: \" + symbol)\n",
    "            \n",
    "    return updated_interesting_stocks\n",
    "            "
   ]
  },
  {
   "cell_type": "code",
   "execution_count": 1,
   "metadata": {
    "scrolled": true
   },
   "outputs": [],
   "source": [
    "interesting_stocks = get_interesting_stocks_wsj(list_stock)"
   ]
  },
  {
   "cell_type": "code",
   "execution_count": 270,
   "metadata": {},
   "outputs": [
    {
     "name": "stdout",
     "output_type": "stream",
     "text": [
      "('AMX', 2185.714285714286) ['A', 'B', 'B']\n",
      "('AXTA', 3.5058430717863134) ['A', 'A', 'B']\n",
      "('BABA', 568.5481536616632) ['A', 'A', 'B']\n",
      "('BEST', 520.3821656050957) ['A', 'A', 'A']\n",
      "('CNC', 3.0600919613128266) ['A', 'A', 'B']\n",
      "('CVA', 0.7919366450683905) ['B', 'B', 'B']\n",
      "('DBD', 32.2556943423953) ['A', 'B', 'B']\n",
      "('DCI', 2.0749665327978613) ['B', 'B', 'B']\n",
      "('DOOR', 3.2565528196981686) ['A', 'A', 'B']\n",
      "('EBS', 13.501385772733276) ['A', 'A', 'B']\n",
      "('ELP', 13.513513513513503) ['B', 'B', 'B']\n",
      "('EVR', 0.8416104329365485) ['A', 'A', 'B']\n",
      "('GCO', 1.9783805833163346) ['A', 'B', 'B']\n",
      "('HIG', 0.9796533534287953) ['A', 'A', 'B']\n",
      "('HUM', 4.456157163392435) ['A', 'B', 'B']\n",
      "('HUYA', 526.5432098765433) ['A', 'B', 'B']\n",
      "('KOF', 2039.979231568017) ['A', 'B', 'B']\n",
      "('LOMA', 5.348460291734199) ['A', 'A', 'A']\n",
      "('LXFR', 11.867704280155648) ['A', 'A', 'B']\n",
      "('NCR', 0.9336361342417295) ['A', 'A', 'B']\n",
      "('NUS', 1.2609858616736656) ['A', 'A', 'B']\n",
      "('PJT', 15.079958152742496) ['A', 'A', 'B']\n",
      "('PRG', 29.958960328317374) ['A', 'A', 'B']\n",
      "('RIO', 2.6485869978456513) ['A', 'A', 'B']\n",
      "('TIMB', 16.801437556154532) ['A', 'B', 'B']\n",
      "('TISI', 8.786610878661094) ['A', 'B', 'B']\n",
      "('TKC', 23.260869565217398) ['A', 'B', 'B']\n",
      "('TKR', 4.594695554725436) ['B', 'B', 'B']\n",
      "('TRGP', 1.7164653528289866) ['A', 'A', 'B']\n",
      "('UNF', 2.6281736647182123) ['A', 'B', 'B']\n",
      "('VIPS', 517.137614678899) ['A', 'A', 'B']\n",
      "('VNT', 7.561929595827902) ['A', 'A', 'A']\n",
      "('VSTO', 9.511889862327907) ['A', 'A', 'B']\n",
      "('WDR', 0.24057738572573667) ['A', 'B', 'B']\n"
     ]
    }
   ],
   "source": [
    "interesting_stocks = get_interesting_stocks_zacks(interesting_stocks)"
   ]
  },
  {
   "cell_type": "code",
   "execution_count": 273,
   "metadata": {},
   "outputs": [],
   "source": [
    "interesting_stocks = sorted(interesting_stocks, key=lambda tup: tup[1])"
   ]
  },
  {
   "cell_type": "code",
   "execution_count": 274,
   "metadata": {},
   "outputs": [
    {
     "data": {
      "text/plain": [
       "[('WDR', 0.24057738572573667, ['A', 'B', 'B']),\n",
       " ('CVA', 0.7919366450683905, ['B', 'B', 'B']),\n",
       " ('EVR', 0.8416104329365485, ['A', 'A', 'B']),\n",
       " ('NCR', 0.9336361342417295, ['A', 'A', 'B']),\n",
       " ('HIG', 0.9796533534287953, ['A', 'A', 'B']),\n",
       " ('NUS', 1.2609858616736656, ['A', 'A', 'B']),\n",
       " ('TRGP', 1.7164653528289866, ['A', 'A', 'B']),\n",
       " ('GCO', 1.9783805833163346, ['A', 'B', 'B']),\n",
       " ('DCI', 2.0749665327978613, ['B', 'B', 'B']),\n",
       " ('UNF', 2.6281736647182123, ['A', 'B', 'B']),\n",
       " ('RIO', 2.6485869978456513, ['A', 'A', 'B']),\n",
       " ('CNC', 3.0600919613128266, ['A', 'A', 'B']),\n",
       " ('DOOR', 3.2565528196981686, ['A', 'A', 'B']),\n",
       " ('AXTA', 3.5058430717863134, ['A', 'A', 'B']),\n",
       " ('HUM', 4.456157163392435, ['A', 'B', 'B']),\n",
       " ('TKR', 4.594695554725436, ['B', 'B', 'B']),\n",
       " ('LOMA', 5.348460291734199, ['A', 'A', 'A']),\n",
       " ('VNT', 7.561929595827902, ['A', 'A', 'A']),\n",
       " ('TISI', 8.786610878661094, ['A', 'B', 'B']),\n",
       " ('VSTO', 9.511889862327907, ['A', 'A', 'B']),\n",
       " ('LXFR', 11.867704280155648, ['A', 'A', 'B']),\n",
       " ('EBS', 13.501385772733276, ['A', 'A', 'B']),\n",
       " ('ELP', 13.513513513513503, ['B', 'B', 'B']),\n",
       " ('PJT', 15.079958152742496, ['A', 'A', 'B']),\n",
       " ('TIMB', 16.801437556154532, ['A', 'B', 'B']),\n",
       " ('TKC', 23.260869565217398, ['A', 'B', 'B']),\n",
       " ('PRG', 29.958960328317374, ['A', 'A', 'B']),\n",
       " ('DBD', 32.2556943423953, ['A', 'B', 'B']),\n",
       " ('VIPS', 517.137614678899, ['A', 'A', 'B']),\n",
       " ('BEST', 520.3821656050957, ['A', 'A', 'A']),\n",
       " ('HUYA', 526.5432098765433, ['A', 'B', 'B']),\n",
       " ('BABA', 568.5481536616632, ['A', 'A', 'B']),\n",
       " ('KOF', 2039.979231568017, ['A', 'B', 'B']),\n",
       " ('AMX', 2185.714285714286, ['A', 'B', 'B'])]"
      ]
     },
     "execution_count": 274,
     "metadata": {},
     "output_type": "execute_result"
    }
   ],
   "source": [
    "interesting_stocks"
   ]
  },
  {
   "cell_type": "code",
   "execution_count": null,
   "metadata": {},
   "outputs": [],
   "source": []
  },
  {
   "cell_type": "code",
   "execution_count": null,
   "metadata": {},
   "outputs": [],
   "source": []
  },
  {
   "cell_type": "code",
   "execution_count": null,
   "metadata": {},
   "outputs": [],
   "source": []
  },
  {
   "cell_type": "code",
   "execution_count": null,
   "metadata": {},
   "outputs": [],
   "source": []
  },
  {
   "cell_type": "code",
   "execution_count": null,
   "metadata": {},
   "outputs": [],
   "source": []
  },
  {
   "cell_type": "code",
   "execution_count": null,
   "metadata": {},
   "outputs": [],
   "source": []
  },
  {
   "cell_type": "code",
   "execution_count": null,
   "metadata": {},
   "outputs": [],
   "source": []
  },
  {
   "cell_type": "code",
   "execution_count": null,
   "metadata": {},
   "outputs": [],
   "source": []
  },
  {
   "cell_type": "code",
   "execution_count": null,
   "metadata": {},
   "outputs": [],
   "source": []
  }
 ],
 "metadata": {
  "kernelspec": {
   "display_name": "Python [conda env:conda_tf_env] *",
   "language": "python",
   "name": "conda-env-conda_tf_env-py"
  },
  "language_info": {
   "codemirror_mode": {
    "name": "ipython",
    "version": 3
   },
   "file_extension": ".py",
   "mimetype": "text/x-python",
   "name": "python",
   "nbconvert_exporter": "python",
   "pygments_lexer": "ipython3",
   "version": "3.7.10"
  }
 },
 "nbformat": 4,
 "nbformat_minor": 2
}
